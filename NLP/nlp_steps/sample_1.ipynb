{
 "cells": [
  {
   "cell_type": "markdown",
   "id": "90c61e89",
   "metadata": {},
   "source": [
    "# Cleaning the dataset"
   ]
  },
  {
   "cell_type": "code",
   "execution_count": 1,
   "id": "5ff92200",
   "metadata": {},
   "outputs": [
    {
     "name": "stdout",
     "output_type": "stream",
     "text": [
      "hello i am learning nlp nlp is great area \n"
     ]
    }
   ],
   "source": [
    "import re\n",
    "\n",
    "text = \"Hello!, I am learning NLP. NLP is great area :)\"\n",
    "\n",
    "text = text.lower()  # Convert to lowercase\n",
    "\n",
    "text = re.sub(r'[^\\w\\s]', '', text)  # Remove punctuation\n",
    "print(text)\n"
   ]
  },
  {
   "cell_type": "markdown",
   "id": "5da7f84a",
   "metadata": {},
   "source": [
    "# Tokenization"
   ]
  },
  {
   "cell_type": "code",
   "execution_count": 2,
   "id": "4ca2f96f",
   "metadata": {},
   "outputs": [
    {
     "name": "stdout",
     "output_type": "stream",
     "text": [
      "['hello', 'i', 'am', 'learning', 'nlp', 'nlp', 'is', 'great', 'area']\n"
     ]
    }
   ],
   "source": [
    "from nltk.tokenize import word_tokenize\n",
    "\n",
    "tokens = word_tokenize(text)  # Tokenize the text\n",
    "\n",
    "print(tokens)"
   ]
  },
  {
   "cell_type": "markdown",
   "id": "b59cd206",
   "metadata": {},
   "source": [
    "# Stopword removal"
   ]
  },
  {
   "cell_type": "code",
   "execution_count": 3,
   "id": "86db878b",
   "metadata": {},
   "outputs": [
    {
     "name": "stdout",
     "output_type": "stream",
     "text": [
      "['hello', 'learning', 'nlp', 'nlp', 'great', 'area']\n"
     ]
    }
   ],
   "source": [
    "from nltk.corpus import stopwords\n",
    "\n",
    "stopwords = set(stopwords.words('english'))\n",
    "\n",
    "filtered_tokens = [word for word in tokens if word not in stopwords]  # Remove stopwords\n",
    "print(filtered_tokens)"
   ]
  },
  {
   "cell_type": "markdown",
   "id": "00447500",
   "metadata": {},
   "source": [
    "# Steamming/ Lemmatization"
   ]
  },
  {
   "cell_type": "code",
   "execution_count": 5,
   "id": "7f518271",
   "metadata": {},
   "outputs": [
    {
     "name": "stdout",
     "output_type": "stream",
     "text": [
      "Stemmed words:  ['run', 'fli', 'better', 'easili']\n",
      "Lemmatized words:  ['running', 'fly', 'better', 'easily']\n"
     ]
    }
   ],
   "source": [
    "from nltk.stem import PorterStemmer\n",
    "from nltk.stem import WordNetLemmatizer\n",
    "\n",
    "words = [\"running\", \"flies\", \"better\", \"easily\"]\n",
    "\n",
    "stemmer = PorterStemmer()\n",
    "lemmatizer = WordNetLemmatizer()\n",
    "\n",
    "print(\"Stemmed words: \", [stemmer.stem(word) for word in words])\n",
    "print(\"Lemmatized words: \", [lemmatizer.lemmatize(word) for word in words])"
   ]
  },
  {
   "cell_type": "markdown",
   "id": "1b4f7ed0",
   "metadata": {},
   "source": [
    "# Vectorize"
   ]
  },
  {
   "cell_type": "code",
   "execution_count": 6,
   "id": "907c9e2d",
   "metadata": {},
   "outputs": [
    {
     "name": "stdout",
     "output_type": "stream",
     "text": [
      "Feature names: ['doors' 'feel' 'fun' 'happy' 'is' 'language' 'leaning' 'makes' 'many'\n",
      " 'natural' 'nlp' 'opens' 'studyin' 'you']\n",
      "TF-IDF matrix:\n",
      " [[0.         0.         0.5        0.         0.5        0.5\n",
      "  0.         0.         0.         0.5        0.         0.\n",
      "  0.         0.        ]\n",
      " [0.46735098 0.         0.         0.         0.         0.\n",
      "  0.46735098 0.         0.46735098 0.         0.35543247 0.46735098\n",
      "  0.         0.        ]\n",
      " [0.         0.42339448 0.         0.42339448 0.         0.\n",
      "  0.         0.42339448 0.         0.         0.32200242 0.\n",
      "  0.42339448 0.42339448]]\n"
     ]
    }
   ],
   "source": [
    "from sklearn.feature_extraction.text import TfidfVectorizer\n",
    "\n",
    "data = [\"Natural Language is fun.\", \n",
    "        \"Leaning NLP opens many doors.\", \n",
    "        \"Studyin NLp makes you feel happy.\"]\n",
    "\n",
    "vectorizer = TfidfVectorizer()\n",
    "X = vectorizer.fit_transform(data)\n",
    "print(\"Feature names:\", vectorizer.get_feature_names_out())\n",
    "print(\"TF-IDF matrix:\\n\", X.toarray())"
   ]
  },
  {
   "cell_type": "markdown",
   "id": "0c0ab841",
   "metadata": {},
   "source": [
    "### Turkish version of Stem and Lemma "
   ]
  },
  {
   "cell_type": "code",
   "execution_count": 7,
   "id": "7e8d4073",
   "metadata": {},
   "outputs": [
    {
     "name": "stdout",
     "output_type": "stream",
     "text": [
      "Collecting snowballstemmer\n",
      "  Downloading snowballstemmer-3.0.1-py3-none-any.whl.metadata (7.9 kB)\n",
      "Downloading snowballstemmer-3.0.1-py3-none-any.whl (103 kB)\n",
      "Installing collected packages: snowballstemmer\n",
      "Successfully installed snowballstemmer-3.0.1\n",
      "Collecting trnlp\n",
      "  Downloading trnlp-0.2.3a0.tar.gz (10.1 MB)\n",
      "     ---------------------------------------- 0.0/10.1 MB ? eta -:--:--\n",
      "     ---------------------------------------- 0.0/10.1 MB ? eta -:--:--\n",
      "     ---------------------------------------- 0.0/10.1 MB ? eta -:--:--\n",
      "     -- ------------------------------------- 0.5/10.1 MB 2.1 MB/s eta 0:00:05\n",
      "     ------- -------------------------------- 1.8/10.1 MB 4.2 MB/s eta 0:00:02\n",
      "     --------------- ------------------------ 3.9/10.1 MB 6.2 MB/s eta 0:00:01\n",
      "     -------------------- ------------------- 5.2/10.1 MB 7.2 MB/s eta 0:00:01\n",
      "     --------------------- ------------------ 5.5/10.1 MB 5.2 MB/s eta 0:00:01\n",
      "     --------------------------------- ------ 8.4/10.1 MB 6.7 MB/s eta 0:00:01\n",
      "     ------------------------------------- -- 9.4/10.1 MB 6.5 MB/s eta 0:00:01\n",
      "     ---------------------------------------- 10.1/10.1 MB 6.4 MB/s eta 0:00:00\n",
      "  Preparing metadata (setup.py): started\n",
      "  Preparing metadata (setup.py): finished with status 'done'\n",
      "Building wheels for collected packages: trnlp\n",
      "  Building wheel for trnlp (setup.py): started\n",
      "  Building wheel for trnlp (setup.py): finished with status 'done'\n",
      "  Created wheel for trnlp: filename=trnlp-0.2.3a0-py3-none-any.whl size=10168385 sha256=6b8b4e426b896a77f1e9c6e7fdd961621d9bfd63027df7203b254eef0f0156d3\n",
      "  Stored in directory: c:\\users\\busra\\appdata\\local\\pip\\cache\\wheels\\f5\\75\\d1\\fb5c7ad584aafd96ae8d425dcdb7e64296f729fcb2eeccf26b\n",
      "Successfully built trnlp\n",
      "Installing collected packages: trnlp\n",
      "Successfully installed trnlp-0.2.3a0\n"
     ]
    },
    {
     "name": "stderr",
     "output_type": "stream",
     "text": [
      "  DEPRECATION: Building 'trnlp' using the legacy setup.py bdist_wheel mechanism, which will be removed in a future version. pip 25.3 will enforce this behaviour change. A possible replacement is to use the standardized build interface by setting the `--use-pep517` option, (possibly combined with `--no-build-isolation`), or adding a `pyproject.toml` file to the source tree of 'trnlp'. Discussion can be found at https://github.com/pypa/pip/issues/6334\n"
     ]
    }
   ],
   "source": [
    "!pip install snowballstemmer\n",
    "!pip install trnlp"
   ]
  },
  {
   "cell_type": "code",
   "execution_count": 12,
   "id": "84309dfb",
   "metadata": {},
   "outputs": [
    {
     "name": "stdout",
     "output_type": "stream",
     "text": [
      "Köklerine ayrılmış kelimeler: ['koşuyor', 'uçuyor', 'i', 'kolay']\n",
      "Lemmatize edilmiş kelimeler: ['koş', 'uç', 'iyi', 'kolay']\n"
     ]
    }
   ],
   "source": [
    "from snowballstemmer import TurkishStemmer\n",
    "\n",
    "words = [\"koşuyor\", \"uçuyor\", \"iyi\", \"kolayca\"]\n",
    "stemmer = TurkishStemmer()\n",
    "\n",
    "print(\"Köklerine ayrılmış kelimeler:\", [stemmer.stemWord(word) for word in words])\n",
    "\n",
    "\n",
    "from trnlp import TrnlpWord\n",
    "\n",
    "words = [\"koşuyor\", \"uçuyor\", \"iyi\", \"kolayca\"]\n",
    "\n",
    "lemmas = []\n",
    "for word in words:\n",
    "    tw = TrnlpWord()\n",
    "    tw.setword(word)\n",
    "    lemmas.append(tw.get_stem)\n",
    "\n",
    "print(\"Lemmatize edilmiş kelimeler:\", lemmas)\n"
   ]
  },
  {
   "cell_type": "code",
   "execution_count": null,
   "id": "4b7ab282",
   "metadata": {},
   "outputs": [],
   "source": []
  }
 ],
 "metadata": {
  "kernelspec": {
   "display_name": "gykml",
   "language": "python",
   "name": "python3"
  },
  "language_info": {
   "codemirror_mode": {
    "name": "ipython",
    "version": 3
   },
   "file_extension": ".py",
   "mimetype": "text/x-python",
   "name": "python",
   "nbconvert_exporter": "python",
   "pygments_lexer": "ipython3",
   "version": "3.11.11"
  }
 },
 "nbformat": 4,
 "nbformat_minor": 5
}
